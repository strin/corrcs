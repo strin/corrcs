{
 "metadata": {
  "name": "",
  "signature": "sha256:d1c60d4b0c2503d2913661b72dc3de34b55549b0a54e2f17655dae6a934ad059"
 },
 "nbformat": 3,
 "nbformat_minor": 0,
 "worksheets": [
  {
   "cells": [
    {
     "cell_type": "code",
     "collapsed": false,
     "input": [
      "%load_ext autoreload\n",
      "%autoreload 2\n",
      "import ebola\n",
      "import os, sys"
     ],
     "language": "python",
     "metadata": {},
     "outputs": [
      {
       "output_type": "stream",
       "stream": "stdout",
       "text": [
        "The autoreload extension is already loaded. To reload it, use:\n",
        "  %reload_ext autoreload\n"
       ]
      }
     ],
     "prompt_number": 20
    },
    {
     "cell_type": "heading",
     "level": 2,
     "metadata": {},
     "source": [
      "Data Processing"
     ]
    },
    {
     "cell_type": "code",
     "collapsed": false,
     "input": [
      "# meta-parameters.\n",
      "ratio_list = [0.1, 0.2, 0.3, 0.4, 0.5, 0.6, 0.7, 0.8]\n",
      "DATA = '../../data/ebola/'\n",
      "RESULT = '../../result/ebola/'"
     ],
     "language": "python",
     "metadata": {},
     "outputs": [],
     "prompt_number": 23
    },
    {
     "cell_type": "code",
     "collapsed": false,
     "input": [
      "# extract matrix from raw data.\n",
      "ebola.process_ebola_casualty(file_in = DATA+'ebola-data-db-format.csv', \\\n",
      "                             file_out = DATA+'ebola-data-db-format.mat')"
     ],
     "language": "python",
     "metadata": {},
     "outputs": [],
     "prompt_number": 9
    },
    {
     "cell_type": "code",
     "collapsed": false,
     "input": [
      "# generate observations.\n",
      "for ratio in ratio_list:\n",
      "  ebola.observe_ebola_casualty(DATA+'ebola-data-db-format.mat', DATA+'casualty/', ratio)"
     ],
     "language": "python",
     "metadata": {},
     "outputs": [],
     "prompt_number": 31
    },
    {
     "cell_type": "heading",
     "level": 2,
     "metadata": {},
     "source": [
      "Experimentation"
     ]
    },
    {
     "cell_type": "heading",
     "level": 3,
     "metadata": {},
     "source": [
      "Collaborative Filtering Baseline"
     ]
    },
    {
     "cell_type": "code",
     "collapsed": false,
     "input": [
      "# for ratio in ratio_list:\n",
      "for ratio in [0.1]:\n",
      "  print 'ratio = ', ratio\n",
      "  ebola.filter_ebola_casualty(DATA+'casualty/', RESULT+'cfilter/', 'ratio_' + str(ratio) +'.mat')"
     ],
     "language": "python",
     "metadata": {},
     "outputs": [
      {
       "output_type": "stream",
       "stream": "stdout",
       "text": [
        "ratio =  0.1\n",
        "{'1': {'24': 914.0, '13': 1078.0, '12': 790.0, '59': 2447.0, '14': 539.0, '49': 2106.0, '33': 941.0, '18': 863.0, '67': 1716.0, '51': 2515.0, '39': 950.0, '41': 1376.0, '2': 382.0, '6': 634.0, '9': 654.0, '74': 2663.0}, '0': {'10': 151.0, '20': 28.0, '71': 63.0, '23': 28.0, '19': 162.0, '43': 191.0, '40': 190.0, '34': 180.0, '0': 482.0, '53': 316.0, '7': 151.0}, '3': {'11': 1.0, '25': 1.0, '26': 0.0, '27': 19.0, '21': 19.0, '17': 1.0, '16': 1.0, '31': 1.0, '30': 19.0, '28': 1.0, '29': 0.0, '1': 1.0, '61': 1.0, '45': 19.0, '4': 1.0, '69': 19.0, '8': 1.0}, '2': {'15': 1513.0, '47': 446.0, '44': 396.0, '36': 2593.0, '50': 470.0, '5': 78.0, '32': 221.0, '73': 79.0}, '5': {'58': 0.0, '48': 4.0, '55': 0.0, '57': 4.0, '60': 4.0, '64': 0.0, '70': 0.0, '68': 0.0}, '4': {'38': 0.0, '22': 0.0, '46': 0.0, '54': 1.0, '56': 0.0, '37': 0.0, '62': 0.0, '35': 0.0, '3': 1.0, '66': 1.0}, '7': {'72': 5.0, '63': 2.0, '65': 0.0, '52': 0.0}, '6': {'42': 1.0}}\n",
        "[[  4.82000000e+02              nan              nan              nan\n",
        "               nan              nan              nan   1.51000000e+02\n",
        "               nan              nan   1.51000000e+02              nan\n",
        "               nan              nan              nan              nan\n",
        "               nan              nan              nan   1.62000000e+02\n",
        "    2.80000000e+01              nan              nan   2.80000000e+01\n",
        "               nan              nan              nan              nan\n",
        "               nan              nan              nan              nan\n",
        "               nan              nan   1.80000000e+02              nan\n",
        "               nan              nan              nan              nan\n",
        "    1.90000000e+02              nan              nan   1.91000000e+02\n",
        "               nan              nan              nan              nan\n",
        "               nan              nan              nan              nan\n",
        "               nan   3.16000000e+02              nan              nan\n",
        "               nan              nan              nan              nan\n",
        "               nan              nan              nan              nan\n",
        "               nan              nan              nan              nan\n",
        "               nan              nan              nan   6.30000000e+01\n",
        "               nan              nan              nan]\n",
        " [             nan              nan   3.82000000e+02              nan\n",
        "               nan              nan   6.34000000e+02              nan\n",
        "               nan   6.54000000e+02              nan              nan\n",
        "    7.90000000e+02   1.07800000e+03   5.39000000e+02              nan\n",
        "               nan              nan   8.63000000e+02              nan\n",
        "               nan              nan              nan              nan\n",
        "    9.14000000e+02              nan              nan              nan\n",
        "               nan              nan              nan              nan\n",
        "               nan   9.41000000e+02              nan              nan\n",
        "               nan              nan              nan   9.50000000e+02\n",
        "               nan   1.37600000e+03              nan              nan\n",
        "               nan              nan              nan              nan\n",
        "               nan   2.10600000e+03              nan   2.51500000e+03\n",
        "               nan              nan              nan              nan\n",
        "               nan              nan              nan   2.44700000e+03\n",
        "               nan              nan              nan              nan\n",
        "               nan              nan              nan   1.71600000e+03\n",
        "               nan              nan              nan              nan\n",
        "               nan              nan   2.66300000e+03]\n",
        " [             nan              nan              nan              nan\n",
        "               nan   7.80000000e+01              nan              nan\n",
        "               nan              nan              nan              nan\n",
        "               nan              nan              nan   1.51300000e+03\n",
        "               nan              nan              nan              nan\n",
        "               nan              nan              nan              nan\n",
        "               nan              nan              nan              nan\n",
        "               nan              nan              nan              nan\n",
        "    2.21000000e+02              nan              nan              nan\n",
        "    2.59300000e+03              nan              nan              nan\n",
        "               nan              nan              nan              nan\n",
        "    3.96000000e+02              nan              nan   4.46000000e+02\n",
        "               nan              nan   4.70000000e+02              nan\n",
        "               nan              nan              nan              nan\n",
        "               nan              nan              nan              nan\n",
        "               nan              nan              nan              nan\n",
        "               nan              nan              nan              nan\n",
        "               nan              nan              nan              nan\n",
        "               nan   7.90000000e+01              nan]\n",
        " [             nan   1.00000000e+00              nan              nan\n",
        "    1.00000000e+00              nan              nan              nan\n",
        "    1.00000000e+00              nan              nan   1.00000000e+00\n",
        "               nan              nan              nan              nan\n",
        "    1.00000000e+00   1.00000000e+00              nan              nan\n",
        "               nan   1.90000000e+01              nan              nan\n",
        "               nan   1.00000000e+00   0.00000000e+00   1.90000000e+01\n",
        "    1.00000000e+00   0.00000000e+00   1.90000000e+01   1.00000000e+00\n",
        "               nan              nan              nan              nan\n",
        "               nan              nan              nan              nan\n",
        "               nan              nan              nan              nan\n",
        "               nan   1.90000000e+01              nan              nan\n",
        "               nan              nan              nan              nan\n",
        "               nan              nan              nan              nan\n",
        "               nan              nan              nan              nan\n",
        "               nan   1.00000000e+00              nan              nan\n",
        "               nan              nan              nan              nan\n",
        "               nan   1.90000000e+01              nan              nan\n",
        "               nan              nan              nan]\n",
        " [             nan              nan              nan   1.00000000e+00\n",
        "               nan              nan              nan              nan\n",
        "               nan              nan              nan              nan\n",
        "               nan              nan              nan              nan\n",
        "               nan              nan              nan              nan\n",
        "               nan              nan   0.00000000e+00              nan\n",
        "               nan              nan              nan              nan\n",
        "               nan              nan              nan              nan\n",
        "               nan              nan              nan   0.00000000e+00\n",
        "               nan   0.00000000e+00   0.00000000e+00              nan\n",
        "               nan              nan              nan              nan\n",
        "               nan              nan   0.00000000e+00              nan\n",
        "               nan              nan              nan              nan\n",
        "               nan              nan   1.00000000e+00              nan\n",
        "    0.00000000e+00              nan              nan              nan\n",
        "               nan              nan   0.00000000e+00              nan\n",
        "               nan              nan   1.00000000e+00              nan\n",
        "               nan              nan              nan              nan\n",
        "               nan              nan              nan]\n",
        " [             nan              nan              nan              nan\n",
        "               nan              nan              nan              nan\n",
        "               nan              nan              nan              nan\n",
        "               nan              nan              nan              nan\n",
        "               nan              nan              nan              nan\n",
        "               nan              nan              nan              nan\n",
        "               nan              nan              nan              nan\n",
        "               nan              nan              nan              nan\n",
        "               nan              nan              nan              nan\n",
        "               nan              nan              nan              nan\n",
        "               nan              nan              nan              nan\n",
        "               nan              nan              nan              nan\n",
        "    4.00000000e+00              nan              nan              nan\n",
        "               nan              nan              nan   0.00000000e+00\n",
        "               nan   4.00000000e+00   0.00000000e+00              nan\n",
        "    4.00000000e+00              nan              nan              nan\n",
        "    0.00000000e+00              nan              nan              nan\n",
        "    0.00000000e+00              nan   0.00000000e+00              nan\n",
        "               nan              nan              nan]\n",
        " [             nan              nan              nan              nan\n",
        "               nan              nan              nan              nan\n",
        "               nan              nan              nan              nan\n",
        "               nan              nan              nan              nan\n",
        "               nan              nan              nan              nan\n",
        "               nan              nan              nan              nan\n",
        "               nan              nan              nan              nan\n",
        "               nan              nan              nan              nan\n",
        "               nan              nan              nan              nan\n",
        "               nan              nan              nan              nan\n",
        "               nan              nan   1.00000000e+00              nan\n",
        "               nan              nan              nan              nan\n",
        "               nan              nan              nan              nan\n",
        "               nan              nan              nan              nan\n",
        "               nan              nan              nan              nan\n",
        "               nan              nan              nan              nan\n",
        "               nan              nan              nan              nan\n",
        "               nan              nan              nan              nan\n",
        "               nan              nan              nan]\n",
        " [             nan              nan              nan              nan\n",
        "               nan              nan              nan              nan\n",
        "               nan              nan              nan              nan\n",
        "               nan              nan              nan              nan\n",
        "               nan              nan              nan              nan\n",
        "               nan              nan              nan              nan\n",
        "               nan              nan              nan              nan\n",
        "               nan              nan              nan              nan\n",
        "               nan              nan              nan              nan\n",
        "               nan              nan              nan              nan\n",
        "               nan              nan              nan              nan\n",
        "               nan              nan              nan              nan\n",
        "               nan              nan              nan              nan\n",
        "    0.00000000e+00              nan              nan              nan\n",
        "               nan              nan              nan              nan\n",
        "               nan              nan              nan   2.00000000e+00\n",
        "               nan   0.00000000e+00              nan              nan\n",
        "               nan              nan              nan              nan\n",
        "    5.00000000e+00              nan              nan]]"
       ]
      },
      {
       "output_type": "stream",
       "stream": "stdout",
       "text": [
        "\n",
        "mse 0.0\n"
       ]
      }
     ],
     "prompt_number": 34
    },
    {
     "cell_type": "code",
     "collapsed": false,
     "input": [],
     "language": "python",
     "metadata": {},
     "outputs": [],
     "prompt_number": 17
    },
    {
     "cell_type": "code",
     "collapsed": false,
     "input": [],
     "language": "python",
     "metadata": {},
     "outputs": []
    }
   ],
   "metadata": {}
  }
 ]
}