{
 "metadata": {
  "name": "",
  "signature": "sha256:ad391ca5c8489806c0ab5580b78964056019a1c4b7287b62e62b255927fbcc1f"
 },
 "nbformat": 3,
 "nbformat_minor": 0,
 "worksheets": [
  {
   "cells": [
    {
     "cell_type": "code",
     "collapsed": false,
     "input": [
      "%load_ext autoreload\n",
      "%autoreload 2\n",
      "import sampler\n",
      "import numpy as np\n",
      "import numpy.random as npr"
     ],
     "language": "python",
     "metadata": {},
     "outputs": [
      {
       "output_type": "stream",
       "stream": "stdout",
       "text": [
        "The autoreload extension is already loaded. To reload it, use:\n",
        "  %reload_ext autoreload\n"
       ]
      }
     ],
     "prompt_number": 2
    },
    {
     "cell_type": "code",
     "collapsed": false,
     "input": [
      "# sampleByRow.\n",
      "arr = [[1,2,3],[4,5,6],[7,8,9]]\n",
      "print 'ratio = 0.1,\\n', sampler.sampleByRow(arr, 0.1)\n",
      "print 'ratio = 0.5,\\n', sampler.sampleByRow(arr, 0.5)\n",
      "print 'ratio = 1,\\n', sampler.sampleByRow(arr, 1)"
     ],
     "language": "python",
     "metadata": {},
     "outputs": [
      {
       "output_type": "stream",
       "stream": "stdout",
       "text": [
        "ratio = 0.1,\n",
        "[[ 0.  1.  0.]\n",
        " [ 0.  0.  1.]\n",
        " [ 1.  0.  0.]]\n",
        "ratio = 0.5,\n",
        "[[ 1.  1.  0.]\n",
        " [ 1.  0.  1.]\n",
        " [ 1.  0.  1.]]\n",
        "ratio = 1,\n",
        "[[ 1.  1.  1.]\n",
        " [ 1.  1.  1.]\n",
        " [ 1.  1.  1.]]\n"
       ]
      }
     ],
     "prompt_number": 15
    },
    {
     "cell_type": "code",
     "collapsed": false,
     "input": [
      "# sampleByCol.\n",
      "arr = [[1,2,3],[4,5,6],[7,8,9]]\n",
      "print 'ratio = 0.1,\\n', sampler.sampleByCol(arr, 0.1)\n",
      "print 'ratio = 0.5,\\n', sampler.sampleByCol(arr, 0.5)\n",
      "print 'ratio = 1,\\n', sampler.sampleByCol(arr, 1)"
     ],
     "language": "python",
     "metadata": {},
     "outputs": [
      {
       "output_type": "stream",
       "stream": "stdout",
       "text": [
        "ratio = 0.1,\n",
        "[[ 0.  0.  0.]\n",
        " [ 0.  0.  1.]\n",
        " [ 1.  1.  0.]]\n",
        "ratio = 0.5,\n",
        "[[ 1.  1.  0.]\n",
        " [ 1.  0.  1.]\n",
        " [ 0.  1.  1.]]\n",
        "ratio = 1,\n",
        "[[ 1.  1.  1.]\n",
        " [ 1.  1.  1.]\n",
        " [ 1.  1.  1.]]\n"
       ]
      }
     ],
     "prompt_number": 20
    },
    {
     "cell_type": "code",
     "collapsed": false,
     "input": [],
     "language": "python",
     "metadata": {},
     "outputs": []
    }
   ],
   "metadata": {}
  }
 ]
}