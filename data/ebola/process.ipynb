{
 "metadata": {
  "name": "",
  "signature": "sha256:764904a3d757cad457d17bc82c5ee0bb4ec630fd6ffee7440dbe8156eef626be"
 },
 "nbformat": 3,
 "nbformat_minor": 0,
 "worksheets": [
  {
   "cells": [
    {
     "cell_type": "code",
     "collapsed": false,
     "input": [
      "import numpy as np\n",
      "import scipy.io as sio\n",
      "lines = file('ebola-data-db-format.csv').readlines()\n",
      "condition = lambda line: line[0] == \"Cumulative number of confirmed Ebola cases\" or line[0] == \"Cumulative number of probable Ebola cases\" \\\n",
      "                              or line[0] == \"Cumulative number of suspected Ebola cases\"\n",
      "shorten = {'Cumulative number of confirmed Ebola cases': 'confirmed|', \n",
      "           'Cumulative number of probable Ebola cases':'probable|',\n",
      "           'Cumulative number of suspected Ebola cases':'suspected|'}\n",
      "data = dict()\n",
      "rows = dict()\n",
      "cols = dict()\n",
      "for line in lines:\n",
      "  line = line.split(',')\n",
      "  if condition(line):\n",
      "    if not rows.has_key(line[1]):\n",
      "      rows[line[1]] = len(rows)\n",
      "    line[2] = shorten[line[0]] + line[2]\n",
      "    if not cols.has_key(line[2]):\n",
      "      cols[line[2]] = len(cols)\n",
      "table = np.ones((len(rows), len(cols))) * float('NaN')\n",
      "for line in lines:\n",
      "  line = line.split(',')\n",
      "  if condition(line):\n",
      "    line[2] = shorten[line[0]] + line[2]\n",
      "    table[rows[line[1]]][cols[line[2]]] = float(line[3])\n",
      "sio.savemat('ebola-data-db-format.mat', {'data':table, 'rows':rows, 'cols':cols})"
     ],
     "language": "python",
     "metadata": {},
     "outputs": [],
     "prompt_number": 41
    },
    {
     "cell_type": "code",
     "collapsed": false,
     "input": [],
     "language": "python",
     "metadata": {},
     "outputs": []
    }
   ],
   "metadata": {}
  }
 ]
}