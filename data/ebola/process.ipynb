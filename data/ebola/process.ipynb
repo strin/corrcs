{
 "metadata": {
  "name": "",
  "signature": "sha256:cad9d77e48b9eeb342d0c76c896d08431ef3806a3dc4dffe445188fb5b893176"
 },
 "nbformat": 3,
 "nbformat_minor": 0,
 "worksheets": [
  {
   "cells": [
    {
     "cell_type": "code",
     "collapsed": false,
     "input": [
      "import numpy as np\n",
      "import scipy.io as sio\n",
      "lines = file('ebola-data-db-format.csv').readlines()\n",
      "condition = lambda line: line[0] == \"Cumulative number of confirmed Ebola cases\" or line[0] == \"Cumulative number of probable Ebola cases\" \\\n",
      "                              or line[0] == \"Cumulative number of suspected Ebola cases\"\n",
      "shorten = {'Cumulative number of confirmed Ebola cases': 'confirmed|', \n",
      "           'Cumulative number of probable Ebola cases':'probable|',\n",
      "           'Cumulative number of suspected Ebola cases':'suspected|'}\n",
      "data = dict()\n",
      "rows = dict()\n",
      "cols = dict()\n",
      "for line in lines:\n",
      "  line = line.split(',')\n",
      "  if condition(line):\n",
      "    if not rows.has_key(line[1]):\n",
      "      rows[line[1]] = len(rows)\n",
      "    line[2] = shorten[line[0]] + line[2]\n",
      "    if not cols.has_key(line[2]):\n",
      "      cols[line[2]] = len(cols)\n",
      "table = np.ones((len(rows), len(cols))) * float('NaN')\n",
      "for line in lines:\n",
      "  line = line.split(',')\n",
      "  if condition(line):\n",
      "    line[2] = shorten[line[0]] + line[2]\n",
      "    table[rows[line[1]]][cols[line[2]]] = float(line[3])\n",
      "sio.savemat('ebola-data-db-format.mat', {'data':table, 'rows':rows, 'cols':cols})"
     ],
     "language": "python",
     "metadata": {},
     "outputs": [
      {
       "output_type": "stream",
       "stream": "stdout",
       "text": [
        "{'suspected|2014-10-08': 35, 'suspected|2014-11-12': 65, 'probable|2014-09-05': 4, 'probable|2014-09-08': 7, 'suspected|2014-10-03': 32, 'suspected|2014-10-01': 29, 'probable|2014-09-26': 25, 'suspected|2014-11-14': 68, 'probable|2014-09-24': 22, 'suspected|2014-11-19': 71, 'suspected|2014-11-07': 62, 'probable|2014-11-14': 67, 'confirmed|2014-09-26': 24, 'confirmed|2014-09-24': 21, 'suspected|2014-10-17': 44, 'confirmed|2014-09-22': 18, 'suspected|2014-10-29': 53, 'probable|2014-11-05': 58, 'confirmed|2014-11-12': 63, 'probable|2014-11-07': 61, 'probable|2014-10-08': 34, 'probable|2014-10-25': 49, 'confirmed|2014-08-29': 0, 'confirmed|2014-10-22': 45, 'probable|2014-09-22': 19, 'probable|2014-10-29': 52, 'confirmed|2014-10-03': 30, 'confirmed|2014-11-14': 66, 'confirmed|2014-10-01': 27, 'suspected|2014-09-18': 17, 'confirmed|2014-10-25': 48, 'suspected|2014-09-16': 14, 'confirmed|2014-11-19': 69, 'suspected|2014-09-12': 11, 'probable|2014-10-01': 28, 'probable|2014-08-29': 1, 'probable|2014-09-12': 10, 'suspected|2014-11-05': 59, 'probable|2014-09-16': 13, 'confirmed|2014-10-31': 54, 'suspected|2014-10-25': 50, 'probable|2014-09-18': 16, 'probable|2014-11-21': 73, 'suspected|2014-10-31': 56, 'confirmed|2014-10-29': 51, 'suspected|2014-08-29': 2, 'confirmed|2014-09-18': 15, 'confirmed|2014-10-10': 36, 'suspected|2014-10-10': 38, 'probable|2014-10-10': 37, 'confirmed|2014-09-12': 9, 'confirmed|2014-09-16': 12, 'confirmed|2014-09-05': 3, 'suspected|2014-10-15': 41, 'probable|2014-11-19': 70, 'confirmed|2014-11-05': 57, 'probable|2014-11-12': 64, 'probable|2014-10-15': 40, 'probable|2014-10-22': 46, 'confirmed|2014-09-08': 6, 'suspected|2014-10-22': 47, 'probable|2014-10-03': 31, 'confirmed|2014-10-15': 39, 'confirmed|2014-10-17': 42, 'suspected|2014-09-08': 8, 'probable|2014-10-17': 43, 'probable|2014-10-31': 55, 'confirmed|2014-11-07': 60, 'suspected|2014-09-22': 20, 'suspected|2014-09-05': 5, 'suspected|2014-11-21': 74, 'confirmed|2014-10-08': 33, 'suspected|2014-09-26': 26, 'suspected|2014-09-24': 23, 'confirmed|2014-11-21': 72}\n"
       ]
      }
     ],
     "prompt_number": 40
    },
    {
     "cell_type": "code",
     "collapsed": false,
     "input": [],
     "language": "python",
     "metadata": {},
     "outputs": []
    }
   ],
   "metadata": {}
  }
 ]
}